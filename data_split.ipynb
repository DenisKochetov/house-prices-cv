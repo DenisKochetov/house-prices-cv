{
 "cells": [
  {
   "cell_type": "code",
   "execution_count": 125,
   "metadata": {},
   "outputs": [],
   "source": [
    "import pandas as pd\n",
    "from sklearn.model_selection import train_test_split\n",
    "from optbinning import ContinuousOptimalBinning\n",
    "\n",
    "from tensorflow import keras\n",
    "from tensorflow.keras import layers\n",
    "import shutil\n",
    "# from tensorflow_docs.vis import embed\n",
    "import matplotlib.pyplot as plt\n",
    "import tensorflow as tf\n",
    "import numpy as np\n",
    "import imageio\n",
    "# import img_tiling # там склеиваются картинки из 4 в 1 квадрат"
   ]
  },
  {
   "cell_type": "code",
   "execution_count": 42,
   "metadata": {},
   "outputs": [],
   "source": [
    "def get_picture(path, index):\n",
    "    img = imageio.imread(path+'/'+str(index) + '.png')\n",
    "    return img"
   ]
  },
  {
   "cell_type": "code",
   "execution_count": 2,
   "metadata": {},
   "outputs": [],
   "source": [
    "df = pd.read_csv('houses.csv')"
   ]
  },
  {
   "cell_type": "code",
   "execution_count": 36,
   "metadata": {},
   "outputs": [],
   "source": [
    "df['id'] = df.index"
   ]
  },
  {
   "cell_type": "code",
   "execution_count": 80,
   "metadata": {},
   "outputs": [],
   "source": [
    "df['target1'] = pd.qcut(df['price'], q=20)"
   ]
  },
  {
   "cell_type": "code",
   "execution_count": null,
   "metadata": {},
   "outputs": [],
   "source": [
    "# df.to_csv('houses_img.csv', index=False)"
   ]
  },
  {
   "cell_type": "code",
   "execution_count": null,
   "metadata": {},
   "outputs": [],
   "source": [
    "df['image'] = df['id'].apply(lambda x: get_picture('img', x+1))"
   ]
  },
  {
   "cell_type": "code",
   "execution_count": 48,
   "metadata": {},
   "outputs": [],
   "source": [
    "df['img_path'] = df['id'].apply(lambda x: 'img/'+str(x) + '.png')"
   ]
  },
  {
   "cell_type": "code",
   "execution_count": 63,
   "metadata": {},
   "outputs": [],
   "source": [
    "# split df to train test\n",
    "X_train, X_valid, y_train, y_valid = train_test_split(df.drop('price', axis=1), df['price'], test_size=0.2, random_state=42)"
   ]
  },
  {
   "cell_type": "code",
   "execution_count": 64,
   "metadata": {},
   "outputs": [
    {
     "data": {
      "text/plain": [
       "284     589900\n",
       "347     106000\n",
       "440     639000\n",
       "421    5858000\n",
       "149    1795000\n",
       "Name: price, dtype: int64"
      ]
     },
     "execution_count": 64,
     "metadata": {},
     "output_type": "execute_result"
    }
   ],
   "source": [
    "y_train.head()"
   ]
  },
  {
   "cell_type": "markdown",
   "metadata": {},
   "source": [
    "Выбросы уходят"
   ]
  },
  {
   "cell_type": "code",
   "execution_count": 65,
   "metadata": {},
   "outputs": [],
   "source": [
    "y_train = y_train.clip(lower=y_train.quantile(0.05), upper=y_train.quantile(0.95))"
   ]
  },
  {
   "cell_type": "code",
   "execution_count": 66,
   "metadata": {},
   "outputs": [],
   "source": [
    "variable = \"square\"\n",
    "y = X_train[variable].values\n",
    "x = y_train"
   ]
  },
  {
   "cell_type": "code",
   "execution_count": 67,
   "metadata": {},
   "outputs": [],
   "source": [
    "optb = ContinuousOptimalBinning(name=variable, dtype=\"numerical\")"
   ]
  },
  {
   "cell_type": "code",
   "execution_count": 68,
   "metadata": {},
   "outputs": [
    {
     "data": {
      "text/html": [
       "<style>#sk-container-id-3 {color: black;background-color: white;}#sk-container-id-3 pre{padding: 0;}#sk-container-id-3 div.sk-toggleable {background-color: white;}#sk-container-id-3 label.sk-toggleable__label {cursor: pointer;display: block;width: 100%;margin-bottom: 0;padding: 0.3em;box-sizing: border-box;text-align: center;}#sk-container-id-3 label.sk-toggleable__label-arrow:before {content: \"▸\";float: left;margin-right: 0.25em;color: #696969;}#sk-container-id-3 label.sk-toggleable__label-arrow:hover:before {color: black;}#sk-container-id-3 div.sk-estimator:hover label.sk-toggleable__label-arrow:before {color: black;}#sk-container-id-3 div.sk-toggleable__content {max-height: 0;max-width: 0;overflow: hidden;text-align: left;background-color: #f0f8ff;}#sk-container-id-3 div.sk-toggleable__content pre {margin: 0.2em;color: black;border-radius: 0.25em;background-color: #f0f8ff;}#sk-container-id-3 input.sk-toggleable__control:checked~div.sk-toggleable__content {max-height: 200px;max-width: 100%;overflow: auto;}#sk-container-id-3 input.sk-toggleable__control:checked~label.sk-toggleable__label-arrow:before {content: \"▾\";}#sk-container-id-3 div.sk-estimator input.sk-toggleable__control:checked~label.sk-toggleable__label {background-color: #d4ebff;}#sk-container-id-3 div.sk-label input.sk-toggleable__control:checked~label.sk-toggleable__label {background-color: #d4ebff;}#sk-container-id-3 input.sk-hidden--visually {border: 0;clip: rect(1px 1px 1px 1px);clip: rect(1px, 1px, 1px, 1px);height: 1px;margin: -1px;overflow: hidden;padding: 0;position: absolute;width: 1px;}#sk-container-id-3 div.sk-estimator {font-family: monospace;background-color: #f0f8ff;border: 1px dotted black;border-radius: 0.25em;box-sizing: border-box;margin-bottom: 0.5em;}#sk-container-id-3 div.sk-estimator:hover {background-color: #d4ebff;}#sk-container-id-3 div.sk-parallel-item::after {content: \"\";width: 100%;border-bottom: 1px solid gray;flex-grow: 1;}#sk-container-id-3 div.sk-label:hover label.sk-toggleable__label {background-color: #d4ebff;}#sk-container-id-3 div.sk-serial::before {content: \"\";position: absolute;border-left: 1px solid gray;box-sizing: border-box;top: 0;bottom: 0;left: 50%;z-index: 0;}#sk-container-id-3 div.sk-serial {display: flex;flex-direction: column;align-items: center;background-color: white;padding-right: 0.2em;padding-left: 0.2em;position: relative;}#sk-container-id-3 div.sk-item {position: relative;z-index: 1;}#sk-container-id-3 div.sk-parallel {display: flex;align-items: stretch;justify-content: center;background-color: white;position: relative;}#sk-container-id-3 div.sk-item::before, #sk-container-id-3 div.sk-parallel-item::before {content: \"\";position: absolute;border-left: 1px solid gray;box-sizing: border-box;top: 0;bottom: 0;left: 50%;z-index: -1;}#sk-container-id-3 div.sk-parallel-item {display: flex;flex-direction: column;z-index: 1;position: relative;background-color: white;}#sk-container-id-3 div.sk-parallel-item:first-child::after {align-self: flex-end;width: 50%;}#sk-container-id-3 div.sk-parallel-item:last-child::after {align-self: flex-start;width: 50%;}#sk-container-id-3 div.sk-parallel-item:only-child::after {width: 0;}#sk-container-id-3 div.sk-dashed-wrapped {border: 1px dashed gray;margin: 0 0.4em 0.5em 0.4em;box-sizing: border-box;padding-bottom: 0.4em;background-color: white;}#sk-container-id-3 div.sk-label label {font-family: monospace;font-weight: bold;display: inline-block;line-height: 1.2em;}#sk-container-id-3 div.sk-label-container {text-align: center;}#sk-container-id-3 div.sk-container {/* jupyter's `normalize.less` sets `[hidden] { display: none; }` but bootstrap.min.css set `[hidden] { display: none !important; }` so we also need the `!important` here to be able to override the default hidden behavior on the sphinx rendered scikit-learn.org. See: https://github.com/scikit-learn/scikit-learn/issues/21755 */display: inline-block !important;position: relative;}#sk-container-id-3 div.sk-text-repr-fallback {display: none;}</style><div id=\"sk-container-id-3\" class=\"sk-top-container\"><div class=\"sk-text-repr-fallback\"><pre>ContinuousOptimalBinning(name=&#x27;square&#x27;)</pre><b>In a Jupyter environment, please rerun this cell to show the HTML representation or trust the notebook. <br />On GitHub, the HTML representation is unable to render, please try loading this page with nbviewer.org.</b></div><div class=\"sk-container\" hidden><div class=\"sk-item\"><div class=\"sk-estimator sk-toggleable\"><input class=\"sk-toggleable__control sk-hidden--visually\" id=\"sk-estimator-id-3\" type=\"checkbox\" checked><label for=\"sk-estimator-id-3\" class=\"sk-toggleable__label sk-toggleable__label-arrow\">ContinuousOptimalBinning</label><div class=\"sk-toggleable__content\"><pre>ContinuousOptimalBinning(name=&#x27;square&#x27;)</pre></div></div></div></div></div>"
      ],
      "text/plain": [
       "ContinuousOptimalBinning(name='square')"
      ]
     },
     "execution_count": 68,
     "metadata": {},
     "output_type": "execute_result"
    }
   ],
   "source": [
    "optb.fit(x, y)"
   ]
  },
  {
   "cell_type": "code",
   "execution_count": 69,
   "metadata": {},
   "outputs": [
    {
     "data": {
      "text/plain": [
       "'OPTIMAL'"
      ]
     },
     "execution_count": 69,
     "metadata": {},
     "output_type": "execute_result"
    }
   ],
   "source": [
    "optb.status"
   ]
  },
  {
   "cell_type": "code",
   "execution_count": 70,
   "metadata": {},
   "outputs": [
    {
     "data": {
      "text/plain": [
       "array([  82600.,  135950.,  182450.,  292400.,  454000.,  541500.,\n",
       "        690000.,  749450., 1191500.])"
      ]
     },
     "execution_count": 70,
     "metadata": {},
     "output_type": "execute_result"
    }
   ],
   "source": [
    "optb.splits"
   ]
  },
  {
   "cell_type": "code",
   "execution_count": 71,
   "metadata": {},
   "outputs": [
    {
     "data": {
      "text/html": [
       "<div>\n",
       "<style scoped>\n",
       "    .dataframe tbody tr th:only-of-type {\n",
       "        vertical-align: middle;\n",
       "    }\n",
       "\n",
       "    .dataframe tbody tr th {\n",
       "        vertical-align: top;\n",
       "    }\n",
       "\n",
       "    .dataframe thead th {\n",
       "        text-align: right;\n",
       "    }\n",
       "</style>\n",
       "<table border=\"1\" class=\"dataframe\">\n",
       "  <thead>\n",
       "    <tr style=\"text-align: right;\">\n",
       "      <th></th>\n",
       "      <th>Bin</th>\n",
       "      <th>Count</th>\n",
       "      <th>Count (%)</th>\n",
       "      <th>Sum</th>\n",
       "      <th>Std</th>\n",
       "      <th>Mean</th>\n",
       "      <th>Min</th>\n",
       "      <th>Max</th>\n",
       "      <th>Zeros count</th>\n",
       "      <th>WoE</th>\n",
       "      <th>IV</th>\n",
       "    </tr>\n",
       "  </thead>\n",
       "  <tbody>\n",
       "    <tr>\n",
       "      <th>0</th>\n",
       "      <td>(-inf, 82600.00)</td>\n",
       "      <td>22</td>\n",
       "      <td>0.051402</td>\n",
       "      <td>26356.0</td>\n",
       "      <td>230.360192</td>\n",
       "      <td>1198.000000</td>\n",
       "      <td>960.0</td>\n",
       "      <td>1680.0</td>\n",
       "      <td>0</td>\n",
       "      <td>-1163.922897</td>\n",
       "      <td>59.827812</td>\n",
       "    </tr>\n",
       "    <tr>\n",
       "      <th>1</th>\n",
       "      <td>[82600.00, 135950.00)</td>\n",
       "      <td>40</td>\n",
       "      <td>0.093458</td>\n",
       "      <td>53727.0</td>\n",
       "      <td>190.456936</td>\n",
       "      <td>1343.175000</td>\n",
       "      <td>900.0</td>\n",
       "      <td>1766.0</td>\n",
       "      <td>0</td>\n",
       "      <td>-1018.747897</td>\n",
       "      <td>95.210084</td>\n",
       "    </tr>\n",
       "    <tr>\n",
       "      <th>2</th>\n",
       "      <td>[135950.00, 182450.00)</td>\n",
       "      <td>22</td>\n",
       "      <td>0.051402</td>\n",
       "      <td>31590.0</td>\n",
       "      <td>274.163506</td>\n",
       "      <td>1435.909091</td>\n",
       "      <td>854.0</td>\n",
       "      <td>1930.0</td>\n",
       "      <td>0</td>\n",
       "      <td>-926.013806</td>\n",
       "      <td>47.598841</td>\n",
       "    </tr>\n",
       "    <tr>\n",
       "      <th>3</th>\n",
       "      <td>[182450.00, 292400.00)</td>\n",
       "      <td>35</td>\n",
       "      <td>0.081776</td>\n",
       "      <td>64212.0</td>\n",
       "      <td>644.586117</td>\n",
       "      <td>1834.628571</td>\n",
       "      <td>1005.0</td>\n",
       "      <td>3768.0</td>\n",
       "      <td>0</td>\n",
       "      <td>-527.294326</td>\n",
       "      <td>43.119863</td>\n",
       "    </tr>\n",
       "    <tr>\n",
       "      <th>4</th>\n",
       "      <td>[292400.00, 454000.00)</td>\n",
       "      <td>55</td>\n",
       "      <td>0.128505</td>\n",
       "      <td>105080.0</td>\n",
       "      <td>1222.369916</td>\n",
       "      <td>1910.545455</td>\n",
       "      <td>701.0</td>\n",
       "      <td>9583.0</td>\n",
       "      <td>0</td>\n",
       "      <td>-451.377443</td>\n",
       "      <td>58.004111</td>\n",
       "    </tr>\n",
       "    <tr>\n",
       "      <th>5</th>\n",
       "      <td>[454000.00, 541500.00)</td>\n",
       "      <td>57</td>\n",
       "      <td>0.133178</td>\n",
       "      <td>145239.0</td>\n",
       "      <td>1220.14922</td>\n",
       "      <td>2548.052632</td>\n",
       "      <td>951.0</td>\n",
       "      <td>9536.0</td>\n",
       "      <td>0</td>\n",
       "      <td>186.129734</td>\n",
       "      <td>24.788306</td>\n",
       "    </tr>\n",
       "    <tr>\n",
       "      <th>6</th>\n",
       "      <td>[541500.00, 690000.00)</td>\n",
       "      <td>70</td>\n",
       "      <td>0.163551</td>\n",
       "      <td>185615.0</td>\n",
       "      <td>1091.105233</td>\n",
       "      <td>2651.642857</td>\n",
       "      <td>766.0</td>\n",
       "      <td>7627.0</td>\n",
       "      <td>0</td>\n",
       "      <td>289.719960</td>\n",
       "      <td>47.384106</td>\n",
       "    </tr>\n",
       "    <tr>\n",
       "      <th>7</th>\n",
       "      <td>[690000.00, 749450.00)</td>\n",
       "      <td>24</td>\n",
       "      <td>0.056075</td>\n",
       "      <td>65697.0</td>\n",
       "      <td>967.379183</td>\n",
       "      <td>2737.375000</td>\n",
       "      <td>1056.0</td>\n",
       "      <td>4406.0</td>\n",
       "      <td>0</td>\n",
       "      <td>375.452103</td>\n",
       "      <td>21.053389</td>\n",
       "    </tr>\n",
       "    <tr>\n",
       "      <th>8</th>\n",
       "      <td>[749450.00, 1191500.00)</td>\n",
       "      <td>61</td>\n",
       "      <td>0.142523</td>\n",
       "      <td>170834.0</td>\n",
       "      <td>1080.355763</td>\n",
       "      <td>2800.557377</td>\n",
       "      <td>1084.0</td>\n",
       "      <td>6000.0</td>\n",
       "      <td>0</td>\n",
       "      <td>438.634480</td>\n",
       "      <td>62.515662</td>\n",
       "    </tr>\n",
       "    <tr>\n",
       "      <th>9</th>\n",
       "      <td>[1191500.00, inf)</td>\n",
       "      <td>42</td>\n",
       "      <td>0.098131</td>\n",
       "      <td>162553.0</td>\n",
       "      <td>1193.750083</td>\n",
       "      <td>3870.309524</td>\n",
       "      <td>1560.0</td>\n",
       "      <td>7000.0</td>\n",
       "      <td>0</td>\n",
       "      <td>1508.386627</td>\n",
       "      <td>148.019248</td>\n",
       "    </tr>\n",
       "    <tr>\n",
       "      <th>10</th>\n",
       "      <td>Special</td>\n",
       "      <td>0</td>\n",
       "      <td>0.000000</td>\n",
       "      <td>0.0</td>\n",
       "      <td>NaN</td>\n",
       "      <td>0.000000</td>\n",
       "      <td>NaN</td>\n",
       "      <td>NaN</td>\n",
       "      <td>0</td>\n",
       "      <td>-2361.922897</td>\n",
       "      <td>0.000000</td>\n",
       "    </tr>\n",
       "    <tr>\n",
       "      <th>11</th>\n",
       "      <td>Missing</td>\n",
       "      <td>0</td>\n",
       "      <td>0.000000</td>\n",
       "      <td>0.0</td>\n",
       "      <td>NaN</td>\n",
       "      <td>0.000000</td>\n",
       "      <td>NaN</td>\n",
       "      <td>NaN</td>\n",
       "      <td>0</td>\n",
       "      <td>-2361.922897</td>\n",
       "      <td>0.000000</td>\n",
       "    </tr>\n",
       "    <tr>\n",
       "      <th>Totals</th>\n",
       "      <td></td>\n",
       "      <td>428</td>\n",
       "      <td>1.000000</td>\n",
       "      <td>1010903.0</td>\n",
       "      <td></td>\n",
       "      <td>2361.922897</td>\n",
       "      <td>701.0</td>\n",
       "      <td>9583.0</td>\n",
       "      <td>0</td>\n",
       "      <td>11609.525067</td>\n",
       "      <td>607.521421</td>\n",
       "    </tr>\n",
       "  </tbody>\n",
       "</table>\n",
       "</div>"
      ],
      "text/plain": [
       "                            Bin  Count  Count (%)        Sum          Std  \\\n",
       "0              (-inf, 82600.00)     22   0.051402    26356.0   230.360192   \n",
       "1         [82600.00, 135950.00)     40   0.093458    53727.0   190.456936   \n",
       "2        [135950.00, 182450.00)     22   0.051402    31590.0   274.163506   \n",
       "3        [182450.00, 292400.00)     35   0.081776    64212.0   644.586117   \n",
       "4        [292400.00, 454000.00)     55   0.128505   105080.0  1222.369916   \n",
       "5        [454000.00, 541500.00)     57   0.133178   145239.0   1220.14922   \n",
       "6        [541500.00, 690000.00)     70   0.163551   185615.0  1091.105233   \n",
       "7        [690000.00, 749450.00)     24   0.056075    65697.0   967.379183   \n",
       "8       [749450.00, 1191500.00)     61   0.142523   170834.0  1080.355763   \n",
       "9             [1191500.00, inf)     42   0.098131   162553.0  1193.750083   \n",
       "10                      Special      0   0.000000        0.0          NaN   \n",
       "11                      Missing      0   0.000000        0.0          NaN   \n",
       "Totals                             428   1.000000  1010903.0                \n",
       "\n",
       "               Mean     Min     Max  Zeros count           WoE          IV  \n",
       "0       1198.000000   960.0  1680.0            0  -1163.922897   59.827812  \n",
       "1       1343.175000   900.0  1766.0            0  -1018.747897   95.210084  \n",
       "2       1435.909091   854.0  1930.0            0   -926.013806   47.598841  \n",
       "3       1834.628571  1005.0  3768.0            0   -527.294326   43.119863  \n",
       "4       1910.545455   701.0  9583.0            0   -451.377443   58.004111  \n",
       "5       2548.052632   951.0  9536.0            0    186.129734   24.788306  \n",
       "6       2651.642857   766.0  7627.0            0    289.719960   47.384106  \n",
       "7       2737.375000  1056.0  4406.0            0    375.452103   21.053389  \n",
       "8       2800.557377  1084.0  6000.0            0    438.634480   62.515662  \n",
       "9       3870.309524  1560.0  7000.0            0   1508.386627  148.019248  \n",
       "10         0.000000     NaN     NaN            0  -2361.922897    0.000000  \n",
       "11         0.000000     NaN     NaN            0  -2361.922897    0.000000  \n",
       "Totals  2361.922897   701.0  9583.0            0  11609.525067  607.521421  "
      ]
     },
     "execution_count": 71,
     "metadata": {},
     "output_type": "execute_result"
    }
   ],
   "source": [
    "binning_table = optb.binning_table\n",
    "binning_table.build()"
   ]
  },
  {
   "cell_type": "code",
   "execution_count": 72,
   "metadata": {},
   "outputs": [],
   "source": [
    "x_transform_bins = optb.transform(x, metric=\"bins\")"
   ]
  },
  {
   "cell_type": "code",
   "execution_count": 73,
   "metadata": {},
   "outputs": [],
   "source": [
    "X_train['target'] = x_transform_bins"
   ]
  },
  {
   "cell_type": "code",
   "execution_count": 74,
   "metadata": {},
   "outputs": [
    {
     "data": {
      "text/html": [
       "<div>\n",
       "<style scoped>\n",
       "    .dataframe tbody tr th:only-of-type {\n",
       "        vertical-align: middle;\n",
       "    }\n",
       "\n",
       "    .dataframe tbody tr th {\n",
       "        vertical-align: top;\n",
       "    }\n",
       "\n",
       "    .dataframe thead th {\n",
       "        text-align: right;\n",
       "    }\n",
       "</style>\n",
       "<table border=\"1\" class=\"dataframe\">\n",
       "  <thead>\n",
       "    <tr style=\"text-align: right;\">\n",
       "      <th></th>\n",
       "      <th>rooms</th>\n",
       "      <th>baths</th>\n",
       "      <th>square</th>\n",
       "      <th>post</th>\n",
       "      <th>id</th>\n",
       "      <th>image</th>\n",
       "      <th>img_path</th>\n",
       "      <th>target</th>\n",
       "    </tr>\n",
       "  </thead>\n",
       "  <tbody>\n",
       "    <tr>\n",
       "      <th>284</th>\n",
       "      <td>5</td>\n",
       "      <td>5.0</td>\n",
       "      <td>3816</td>\n",
       "      <td>92880</td>\n",
       "      <td>284</td>\n",
       "      <td>[[[225, 223, 210], [214, 212, 199], [206, 204,...</td>\n",
       "      <td>img/284.png</td>\n",
       "      <td>[541500.00, 690000.00)</td>\n",
       "    </tr>\n",
       "    <tr>\n",
       "      <th>347</th>\n",
       "      <td>2</td>\n",
       "      <td>2.0</td>\n",
       "      <td>1440</td>\n",
       "      <td>92276</td>\n",
       "      <td>347</td>\n",
       "      <td>[[[93, 67, 44], [92, 66, 43], [92, 66, 43], [9...</td>\n",
       "      <td>img/347.png</td>\n",
       "      <td>[82600.00, 135950.00)</td>\n",
       "    </tr>\n",
       "    <tr>\n",
       "      <th>440</th>\n",
       "      <td>4</td>\n",
       "      <td>3.0</td>\n",
       "      <td>1625</td>\n",
       "      <td>93510</td>\n",
       "      <td>440</td>\n",
       "      <td>[[[142, 100, 62], [142, 100, 62], [141, 101, 6...</td>\n",
       "      <td>img/440.png</td>\n",
       "      <td>[541500.00, 690000.00)</td>\n",
       "    </tr>\n",
       "    <tr>\n",
       "      <th>421</th>\n",
       "      <td>4</td>\n",
       "      <td>3.0</td>\n",
       "      <td>2454</td>\n",
       "      <td>93510</td>\n",
       "      <td>421</td>\n",
       "      <td>[[[226, 223, 204], [215, 212, 193], [208, 205,...</td>\n",
       "      <td>img/421.png</td>\n",
       "      <td>[1191500.00, inf)</td>\n",
       "    </tr>\n",
       "    <tr>\n",
       "      <th>149</th>\n",
       "      <td>4</td>\n",
       "      <td>4.5</td>\n",
       "      <td>4038</td>\n",
       "      <td>92677</td>\n",
       "      <td>149</td>\n",
       "      <td>[[[151, 146, 140], [152, 147, 141], [153, 149,...</td>\n",
       "      <td>img/149.png</td>\n",
       "      <td>[1191500.00, inf)</td>\n",
       "    </tr>\n",
       "  </tbody>\n",
       "</table>\n",
       "</div>"
      ],
      "text/plain": [
       "     rooms  baths  square   post   id  \\\n",
       "284      5    5.0    3816  92880  284   \n",
       "347      2    2.0    1440  92276  347   \n",
       "440      4    3.0    1625  93510  440   \n",
       "421      4    3.0    2454  93510  421   \n",
       "149      4    4.5    4038  92677  149   \n",
       "\n",
       "                                                 image     img_path  \\\n",
       "284  [[[225, 223, 210], [214, 212, 199], [206, 204,...  img/284.png   \n",
       "347  [[[93, 67, 44], [92, 66, 43], [92, 66, 43], [9...  img/347.png   \n",
       "440  [[[142, 100, 62], [142, 100, 62], [141, 101, 6...  img/440.png   \n",
       "421  [[[226, 223, 204], [215, 212, 193], [208, 205,...  img/421.png   \n",
       "149  [[[151, 146, 140], [152, 147, 141], [153, 149,...  img/149.png   \n",
       "\n",
       "                     target  \n",
       "284  [541500.00, 690000.00)  \n",
       "347   [82600.00, 135950.00)  \n",
       "440  [541500.00, 690000.00)  \n",
       "421       [1191500.00, inf)  \n",
       "149       [1191500.00, inf)  "
      ]
     },
     "execution_count": 74,
     "metadata": {},
     "output_type": "execute_result"
    }
   ],
   "source": [
    "X_train.head()"
   ]
  },
  {
   "cell_type": "code",
   "execution_count": 15,
   "metadata": {},
   "outputs": [
    {
     "data": {
      "text/plain": [
       "284     589900\n",
       "347     106000\n",
       "440     639000\n",
       "421    5858000\n",
       "149    1795000\n",
       "Name: price, dtype: int64"
      ]
     },
     "execution_count": 15,
     "metadata": {},
     "output_type": "execute_result"
    }
   ],
   "source": [
    "y_train.head()"
   ]
  },
  {
   "cell_type": "markdown",
   "metadata": {},
   "source": [
    "Нам мало 9 бинов, там разница в процентах ошибки очень большая"
   ]
  },
  {
   "cell_type": "code",
   "execution_count": 75,
   "metadata": {},
   "outputs": [],
   "source": [
    "X_train['target1'] = pd.qcut(y_train, q=20)"
   ]
  },
  {
   "cell_type": "code",
   "execution_count": 77,
   "metadata": {},
   "outputs": [
    {
     "data": {
      "text/plain": [
       "(449980.0, 499000.0]         24\n",
       "(81299.999, 82210.0]         22\n",
       "(914750.0, 1161400.0]        22\n",
       "(679900.0, 731250.0]         22\n",
       "(575600.0, 625000.0]         22\n",
       "(548835.0, 575600.0]         22\n",
       "(1499422.078, 1499649.35]    22\n",
       "(243750.0, 330500.0]         22\n",
       "(104480.0, 139520.0]         22\n",
       "(408305.0, 449980.0]         21\n",
       "(330500.0, 408305.0]         21\n",
       "(499000.0, 529000.0]         21\n",
       "(82210.0, 104480.0]          21\n",
       "(187500.0, 243750.0]         21\n",
       "(139520.0, 187500.0]         21\n",
       "(731250.0, 839000.0]         21\n",
       "(839000.0, 914750.0]         21\n",
       "(1161400.0, 1499422.078]     21\n",
       "(625000.0, 679900.0]         20\n",
       "(529000.0, 548835.0]         19\n",
       "Name: target1, dtype: int64"
      ]
     },
     "execution_count": 77,
     "metadata": {},
     "output_type": "execute_result"
    }
   ],
   "source": [
    "X_train['target1'].value_counts()"
   ]
  },
  {
   "cell_type": "markdown",
   "metadata": {},
   "source": [
    "Другое дело"
   ]
  },
  {
   "cell_type": "code",
   "execution_count": null,
   "metadata": {},
   "outputs": [],
   "source": [
    "# df2 = X_train\n",
    "# df2['price'] = y_train\n",
    "# df2 = df2.drop('target', axis=1)"
   ]
  },
  {
   "cell_type": "code",
   "execution_count": 87,
   "metadata": {},
   "outputs": [],
   "source": [
    "# df2['target1'] = df2['target1'].astype('str')\n",
    "# df2.to_csv('house_classes.csv', index=False)\n"
   ]
  },
  {
   "cell_type": "code",
   "execution_count": 89,
   "metadata": {},
   "outputs": [
    {
     "data": {
      "text/html": [
       "<div>\n",
       "<style scoped>\n",
       "    .dataframe tbody tr th:only-of-type {\n",
       "        vertical-align: middle;\n",
       "    }\n",
       "\n",
       "    .dataframe tbody tr th {\n",
       "        vertical-align: top;\n",
       "    }\n",
       "\n",
       "    .dataframe thead th {\n",
       "        text-align: right;\n",
       "    }\n",
       "</style>\n",
       "<table border=\"1\" class=\"dataframe\">\n",
       "  <thead>\n",
       "    <tr style=\"text-align: right;\">\n",
       "      <th></th>\n",
       "      <th>rooms</th>\n",
       "      <th>baths</th>\n",
       "      <th>square</th>\n",
       "      <th>post</th>\n",
       "      <th>price</th>\n",
       "      <th>id</th>\n",
       "      <th>image</th>\n",
       "      <th>img_path</th>\n",
       "      <th>target1</th>\n",
       "    </tr>\n",
       "  </thead>\n",
       "  <tbody>\n",
       "    <tr>\n",
       "      <th>0</th>\n",
       "      <td>4</td>\n",
       "      <td>4.0</td>\n",
       "      <td>4053</td>\n",
       "      <td>85255</td>\n",
       "      <td>869500</td>\n",
       "      <td>0</td>\n",
       "      <td>[[[159, 122, 96], [166, 132, 105], [166, 139, ...</td>\n",
       "      <td>img/0.png</td>\n",
       "      <td>(824999.2, 898800.0]</td>\n",
       "    </tr>\n",
       "  </tbody>\n",
       "</table>\n",
       "</div>"
      ],
      "text/plain": [
       "   rooms  baths  square   post   price  id  \\\n",
       "0      4    4.0    4053  85255  869500   0   \n",
       "\n",
       "                                               image   img_path  \\\n",
       "0  [[[159, 122, 96], [166, 132, 105], [166, 139, ...  img/0.png   \n",
       "\n",
       "                target1  \n",
       "0  (824999.2, 898800.0]  "
      ]
     },
     "execution_count": 89,
     "metadata": {},
     "output_type": "execute_result"
    }
   ],
   "source": [
    "df.head(1)"
   ]
  },
  {
   "cell_type": "code",
   "execution_count": 100,
   "metadata": {},
   "outputs": [
    {
     "data": {
      "text/plain": [
       "Interval(824999.2, 898800.0, closed='right')"
      ]
     },
     "execution_count": 100,
     "metadata": {},
     "output_type": "execute_result"
    }
   ],
   "source": [
    "# get value of first row column 'target1'\n",
    "df['target1'].iloc[0]"
   ]
  },
  {
   "cell_type": "code",
   "execution_count": 148,
   "metadata": {},
   "outputs": [
    {
     "data": {
      "text/plain": [
       "target    (200000.0, 300000.0]\n",
       "price                   519200\n",
       "Name: 10, dtype: object"
      ]
     },
     "execution_count": 148,
     "metadata": {},
     "output_type": "execute_result"
    }
   ],
   "source": [
    "df[['target', 'price']].iloc[10]"
   ]
  },
  {
   "cell_type": "code",
   "execution_count": 157,
   "metadata": {},
   "outputs": [],
   "source": [
    "def check_interval(value, intervals):\n",
    "    ans = 0\n",
    "    for interval in intervals:\n",
    "        if interval.left <= value <= interval.right:\n",
    "            ans =  interval            \n",
    "    if ans != 0:\n",
    "        return ans\n",
    "    if value < 100000:\n",
    "        return pd.Interval(0, 100000)\n",
    "    else:\n",
    "        return pd.Interval(200000, 300000)    \n"
   ]
  },
  {
   "cell_type": "code",
   "execution_count": 102,
   "metadata": {},
   "outputs": [],
   "source": [
    "intervals = X_train['target1'].unique()"
   ]
  },
  {
   "cell_type": "code",
   "execution_count": 158,
   "metadata": {},
   "outputs": [],
   "source": [
    "df['target2']  = df['price'].apply(lambda x: check_interval(x, intervals))"
   ]
  },
  {
   "cell_type": "code",
   "execution_count": 159,
   "metadata": {},
   "outputs": [],
   "source": [
    "# df.head(3)\n",
    "df['target'] = df['target2']"
   ]
  },
  {
   "cell_type": "code",
   "execution_count": 161,
   "metadata": {},
   "outputs": [],
   "source": [
    "# df = df.drop(['target2'], axis=1)\n",
    "df.to_csv('house_classes.csv')"
   ]
  },
  {
   "cell_type": "code",
   "execution_count": 162,
   "metadata": {},
   "outputs": [],
   "source": [
    "# create folder for every target value\n",
    "df['target'] = df['target'].astype(str)\n",
    "for target in df['target'].unique():\n",
    "    try:\n",
    "        os.makedirs(f'img/{target}', exist_ok=True)\n",
    "    except:\n",
    "        print('exist')"
   ]
  },
  {
   "cell_type": "code",
   "execution_count": 128,
   "metadata": {},
   "outputs": [],
   "source": [
    "df['img_path'] = df['id'].apply(lambda x: 'img/'+str(x+1)+'.png')"
   ]
  },
  {
   "cell_type": "code",
   "execution_count": 163,
   "metadata": {},
   "outputs": [],
   "source": [
    "# if row equal target value, copy image to folder\n",
    "for index, row in df.iterrows():\n",
    "    shutil.copy(row['img_path'], f'img/{row[\"target\"]}')"
   ]
  },
  {
   "cell_type": "code",
   "execution_count": 131,
   "metadata": {},
   "outputs": [
    {
     "data": {
      "text/html": [
       "<div>\n",
       "<style scoped>\n",
       "    .dataframe tbody tr th:only-of-type {\n",
       "        vertical-align: middle;\n",
       "    }\n",
       "\n",
       "    .dataframe tbody tr th {\n",
       "        vertical-align: top;\n",
       "    }\n",
       "\n",
       "    .dataframe thead th {\n",
       "        text-align: right;\n",
       "    }\n",
       "</style>\n",
       "<table border=\"1\" class=\"dataframe\">\n",
       "  <thead>\n",
       "    <tr style=\"text-align: right;\">\n",
       "      <th></th>\n",
       "      <th>rooms</th>\n",
       "      <th>baths</th>\n",
       "      <th>square</th>\n",
       "      <th>post</th>\n",
       "      <th>price</th>\n",
       "      <th>id</th>\n",
       "      <th>image</th>\n",
       "      <th>img_path</th>\n",
       "      <th>target</th>\n",
       "    </tr>\n",
       "  </thead>\n",
       "  <tbody>\n",
       "    <tr>\n",
       "      <th>0</th>\n",
       "      <td>4</td>\n",
       "      <td>4.0</td>\n",
       "      <td>4053</td>\n",
       "      <td>85255</td>\n",
       "      <td>869500</td>\n",
       "      <td>0</td>\n",
       "      <td>[[[159, 122, 96], [166, 132, 105], [166, 139, ...</td>\n",
       "      <td>img/1.png</td>\n",
       "      <td>(839000.0, 914750.0]</td>\n",
       "    </tr>\n",
       "    <tr>\n",
       "      <th>1</th>\n",
       "      <td>4</td>\n",
       "      <td>3.0</td>\n",
       "      <td>3343</td>\n",
       "      <td>36372</td>\n",
       "      <td>865200</td>\n",
       "      <td>1</td>\n",
       "      <td>[[[227, 203, 175], [226, 202, 174], [226, 202,...</td>\n",
       "      <td>img/2.png</td>\n",
       "      <td>(839000.0, 914750.0]</td>\n",
       "    </tr>\n",
       "    <tr>\n",
       "      <th>2</th>\n",
       "      <td>3</td>\n",
       "      <td>4.0</td>\n",
       "      <td>3923</td>\n",
       "      <td>85266</td>\n",
       "      <td>889000</td>\n",
       "      <td>2</td>\n",
       "      <td>[[[145, 97, 49], [133, 84, 41], [107, 59, 21],...</td>\n",
       "      <td>img/3.png</td>\n",
       "      <td>(839000.0, 914750.0]</td>\n",
       "    </tr>\n",
       "    <tr>\n",
       "      <th>3</th>\n",
       "      <td>5</td>\n",
       "      <td>5.0</td>\n",
       "      <td>4022</td>\n",
       "      <td>85262</td>\n",
       "      <td>910000</td>\n",
       "      <td>3</td>\n",
       "      <td>[[[245, 202, 160], [245, 202, 160], [249, 206,...</td>\n",
       "      <td>img/4.png</td>\n",
       "      <td>(839000.0, 914750.0]</td>\n",
       "    </tr>\n",
       "    <tr>\n",
       "      <th>4</th>\n",
       "      <td>3</td>\n",
       "      <td>4.0</td>\n",
       "      <td>4116</td>\n",
       "      <td>85266</td>\n",
       "      <td>971226</td>\n",
       "      <td>4</td>\n",
       "      <td>[[[217, 235, 247], [231, 249, 255], [237, 255,...</td>\n",
       "      <td>img/5.png</td>\n",
       "      <td>(914750.0, 1161400.0]</td>\n",
       "    </tr>\n",
       "    <tr>\n",
       "      <th>5</th>\n",
       "      <td>4</td>\n",
       "      <td>5.0</td>\n",
       "      <td>4581</td>\n",
       "      <td>85266</td>\n",
       "      <td>1249000</td>\n",
       "      <td>5</td>\n",
       "      <td>[[[183, 151, 130], [176, 145, 125], [166, 138,...</td>\n",
       "      <td>img/6.png</td>\n",
       "      <td>(1161400.0, 1499422.078]</td>\n",
       "    </tr>\n",
       "    <tr>\n",
       "      <th>6</th>\n",
       "      <td>3</td>\n",
       "      <td>4.0</td>\n",
       "      <td>2544</td>\n",
       "      <td>85262</td>\n",
       "      <td>799000</td>\n",
       "      <td>6</td>\n",
       "      <td>[[[211, 176, 84], [231, 196, 104], [220, 185, ...</td>\n",
       "      <td>img/7.png</td>\n",
       "      <td>(731250.0, 839000.0]</td>\n",
       "    </tr>\n",
       "    <tr>\n",
       "      <th>7</th>\n",
       "      <td>4</td>\n",
       "      <td>5.0</td>\n",
       "      <td>5524</td>\n",
       "      <td>85266</td>\n",
       "      <td>1698000</td>\n",
       "      <td>7</td>\n",
       "      <td>[[[252, 252, 244], [253, 253, 245], [254, 254,...</td>\n",
       "      <td>img/8.png</td>\n",
       "      <td>NaN</td>\n",
       "    </tr>\n",
       "    <tr>\n",
       "      <th>8</th>\n",
       "      <td>3</td>\n",
       "      <td>4.0</td>\n",
       "      <td>4229</td>\n",
       "      <td>85255</td>\n",
       "      <td>1749000</td>\n",
       "      <td>8</td>\n",
       "      <td>[[[207, 205, 206], [208, 206, 207], [209, 209,...</td>\n",
       "      <td>img/9.png</td>\n",
       "      <td>NaN</td>\n",
       "    </tr>\n",
       "    <tr>\n",
       "      <th>9</th>\n",
       "      <td>4</td>\n",
       "      <td>5.0</td>\n",
       "      <td>3550</td>\n",
       "      <td>85262</td>\n",
       "      <td>1500000</td>\n",
       "      <td>9</td>\n",
       "      <td>[[[219, 205, 176], [216, 202, 173], [211, 197,...</td>\n",
       "      <td>img/10.png</td>\n",
       "      <td>NaN</td>\n",
       "    </tr>\n",
       "  </tbody>\n",
       "</table>\n",
       "</div>"
      ],
      "text/plain": [
       "   rooms  baths  square   post    price  id  \\\n",
       "0      4    4.0    4053  85255   869500   0   \n",
       "1      4    3.0    3343  36372   865200   1   \n",
       "2      3    4.0    3923  85266   889000   2   \n",
       "3      5    5.0    4022  85262   910000   3   \n",
       "4      3    4.0    4116  85266   971226   4   \n",
       "5      4    5.0    4581  85266  1249000   5   \n",
       "6      3    4.0    2544  85262   799000   6   \n",
       "7      4    5.0    5524  85266  1698000   7   \n",
       "8      3    4.0    4229  85255  1749000   8   \n",
       "9      4    5.0    3550  85262  1500000   9   \n",
       "\n",
       "                                               image    img_path  \\\n",
       "0  [[[159, 122, 96], [166, 132, 105], [166, 139, ...   img/1.png   \n",
       "1  [[[227, 203, 175], [226, 202, 174], [226, 202,...   img/2.png   \n",
       "2  [[[145, 97, 49], [133, 84, 41], [107, 59, 21],...   img/3.png   \n",
       "3  [[[245, 202, 160], [245, 202, 160], [249, 206,...   img/4.png   \n",
       "4  [[[217, 235, 247], [231, 249, 255], [237, 255,...   img/5.png   \n",
       "5  [[[183, 151, 130], [176, 145, 125], [166, 138,...   img/6.png   \n",
       "6  [[[211, 176, 84], [231, 196, 104], [220, 185, ...   img/7.png   \n",
       "7  [[[252, 252, 244], [253, 253, 245], [254, 254,...   img/8.png   \n",
       "8  [[[207, 205, 206], [208, 206, 207], [209, 209,...   img/9.png   \n",
       "9  [[[219, 205, 176], [216, 202, 173], [211, 197,...  img/10.png   \n",
       "\n",
       "                     target  \n",
       "0      (839000.0, 914750.0]  \n",
       "1      (839000.0, 914750.0]  \n",
       "2      (839000.0, 914750.0]  \n",
       "3      (839000.0, 914750.0]  \n",
       "4     (914750.0, 1161400.0]  \n",
       "5  (1161400.0, 1499422.078]  \n",
       "6      (731250.0, 839000.0]  \n",
       "7                       NaN  \n",
       "8                       NaN  \n",
       "9                       NaN  "
      ]
     },
     "execution_count": 131,
     "metadata": {},
     "output_type": "execute_result"
    }
   ],
   "source": [
    "df.head(10)"
   ]
  },
  {
   "cell_type": "code",
   "execution_count": null,
   "metadata": {},
   "outputs": [],
   "source": []
  }
 ],
 "metadata": {
  "interpreter": {
   "hash": "f3acd4988c75fc476d2a6425393ac369c07cb88e7182327a9d9ff2353cfbc3a5"
  },
  "kernelspec": {
   "display_name": "Python 3.9.12 ('houses')",
   "language": "python",
   "name": "python3"
  },
  "language_info": {
   "codemirror_mode": {
    "name": "ipython",
    "version": 3
   },
   "file_extension": ".py",
   "mimetype": "text/x-python",
   "name": "python",
   "nbconvert_exporter": "python",
   "pygments_lexer": "ipython3",
   "version": "3.9.12"
  },
  "orig_nbformat": 4
 },
 "nbformat": 4,
 "nbformat_minor": 2
}
